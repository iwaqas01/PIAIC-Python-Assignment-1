{
 "cells": [
  {
   "cell_type": "markdown",
   "metadata": {},
   "source": [
    "# Area of a Circle"
   ]
  },
  {
   "cell_type": "code",
   "execution_count": 12,
   "metadata": {},
   "outputs": [
    {
     "name": "stdout",
     "output_type": "stream",
     "text": [
      "Enter the radius: 0.5\n",
      "The area of the circle with radius 0.5 is : 0.7853981633974483\n"
     ]
    }
   ],
   "source": [
    "from math import pi\n",
    "rad = float(input(\"Enter the radius: \"))\n",
    "print (\"The area of the circle with radius \" + str(rad) + \" is : \" + str(pi * rad**2))"
   ]
  },
  {
   "cell_type": "markdown",
   "metadata": {},
   "source": [
    "# Positive, Negative or Zero Numbers "
   ]
  },
  {
   "cell_type": "code",
   "execution_count": 16,
   "metadata": {},
   "outputs": [
    {
     "name": "stdout",
     "output_type": "stream",
     "text": [
      "Enter the number: 0\n",
      "Zero Entered\n"
     ]
    }
   ],
   "source": [
    "num = int(input(\"Enter the number: \"))\n",
    "if num == 0:\n",
    "    print(\"Zero Entered\")\n",
    "elif num > 0:\n",
    "    print(\"Positive Number Entered\")\n",
    "else:\n",
    "    print(\"Negative Number Entered\")"
   ]
  },
  {
   "cell_type": "code",
   "execution_count": 17,
   "metadata": {},
   "outputs": [
    {
     "name": "stdout",
     "output_type": "stream",
     "text": [
      "Enter the number: 3\n",
      "Positive Number Entered\n"
     ]
    }
   ],
   "source": [
    "num = int(input(\"Enter the number: \"))\n",
    "if num == 0:\n",
    "    print(\"Zero Entered\")\n",
    "elif num > 0:\n",
    "    print(\"Positive Number Entered\")\n",
    "else:\n",
    "    print(\"Negative Number Entered\")"
   ]
  },
  {
   "cell_type": "code",
   "execution_count": 18,
   "metadata": {},
   "outputs": [
    {
     "name": "stdout",
     "output_type": "stream",
     "text": [
      "Enter the number: -1\n",
      "Negative Number Entered\n"
     ]
    }
   ],
   "source": [
    "num = int(input(\"Enter the number: \"))\n",
    "if num == 0:\n",
    "    print(\"Zero Entered\")\n",
    "elif num > 0:\n",
    "    print(\"Positive Number Entered\")\n",
    "else:\n",
    "    print(\"Negative Number Entered\")"
   ]
  },
  {
   "cell_type": "markdown",
   "metadata": {},
   "source": [
    "# Divisibility of two numbers"
   ]
  },
  {
   "cell_type": "code",
   "execution_count": 20,
   "metadata": {},
   "outputs": [
    {
     "name": "stdout",
     "output_type": "stream",
     "text": [
      "Enter the numerator4\n",
      "Enter the denominator2\n",
      "Number is divisible\n"
     ]
    }
   ],
   "source": [
    "num = int(input(\"Enter the numerator \"))\n",
    "den = int(input(\"Enter the denominator \"))\n",
    "if num % den == 0:\n",
    "    print(\"Number is divisible\")\n",
    "else:\n",
    "    print(\"Number is not divisible\")"
   ]
  },
  {
   "cell_type": "code",
   "execution_count": 21,
   "metadata": {},
   "outputs": [
    {
     "name": "stdout",
     "output_type": "stream",
     "text": [
      "Enter the numerator7\n",
      "Enter the denominator2\n",
      "Number is not divisible\n"
     ]
    }
   ],
   "source": [
    "num = int(input(\"Enter the numerator \"))\n",
    "den = int(input(\"Enter the denominator \"))\n",
    "if num % den == 0:\n",
    "    print(\"Number is divisible\")\n",
    "else:\n",
    "    print(\"Number is not divisible\")"
   ]
  },
  {
   "cell_type": "markdown",
   "metadata": {},
   "source": [
    "# Days Calculator"
   ]
  },
  {
   "cell_type": "code",
   "execution_count": 36,
   "metadata": {},
   "outputs": [
    {
     "name": "stdout",
     "output_type": "stream",
     "text": [
      "Enter start date 12/12/2018\n",
      "Enter end date 16/12/2018\n",
      "There are 4 days between 2018-12-12 00:00:00 and 2018-12-16 00:00:00\n"
     ]
    }
   ],
   "source": [
    "import datetime\n",
    "start = datetime.datetime.strptime(input('Enter start date '), '%d/%m/%Y')\n",
    "end = datetime.datetime.strptime(input('Enter end date '), '%d/%m/%Y')\n",
    "diff = end - start\n",
    "print(f\"There are {diff.days} days between {start} and {end}\")"
   ]
  },
  {
   "cell_type": "markdown",
   "metadata": {},
   "source": [
    "\n",
    "# Volume of a Sphere"
   ]
  },
  {
   "cell_type": "code",
   "execution_count": 45,
   "metadata": {},
   "outputs": [
    {
     "name": "stdout",
     "output_type": "stream",
     "text": [
      "Enter the radius of sphere: 1\n",
      "Volume of the Sphere with Radius 1.0 is 4.1887902047863905\n"
     ]
    }
   ],
   "source": [
    "from math import pi\n",
    "r = float(input(\"Enter the radius of sphere: \"))\n",
    "v = 4.0/3.0*pi*r**3\n",
    "print(f\"Volume of the Sphere with Radius {r} is {v}\")"
   ]
  },
  {
   "cell_type": "markdown",
   "metadata": {},
   "source": [
    "# Copy String n times"
   ]
  },
  {
   "cell_type": "code",
   "execution_count": 46,
   "metadata": {},
   "outputs": [
    {
     "name": "stdout",
     "output_type": "stream",
     "text": [
      "Enter String :Hi\n",
      "Number of copies: 4\n",
      "4 copies of Hi are HiHiHiHi\n"
     ]
    }
   ],
   "source": [
    "string= str(input(\"Enter String :\"))\n",
    "num = int(input(\"Number of copies: \"))\n",
    "result= string * num\n",
    "print(f\"{num} copies of {string} are {result}\")"
   ]
  },
  {
   "cell_type": "markdown",
   "metadata": {},
   "source": [
    "# Even or Odd"
   ]
  },
  {
   "cell_type": "code",
   "execution_count": 48,
   "metadata": {},
   "outputs": [
    {
     "name": "stdout",
     "output_type": "stream",
     "text": [
      "Enter the Number: 4\n",
      "4 is Even\n"
     ]
    }
   ],
   "source": [
    "num = int(input(\"Enter the Number: \"))\n",
    "if num % 2 == 0:\n",
    "    print(f\"{num} is Even\")\n",
    "else:\n",
    "    print(f\"{num} is Odd\")"
   ]
  },
  {
   "cell_type": "code",
   "execution_count": 49,
   "metadata": {},
   "outputs": [
    {
     "name": "stdout",
     "output_type": "stream",
     "text": [
      "Enter the Number: 9\n",
      "9 is Odd\n"
     ]
    }
   ],
   "source": [
    "num = int(input(\"Enter the Number: \"))\n",
    "if num % 2 == 0:\n",
    "    print(f\"{num} is Even\")\n",
    "else:\n",
    "    print(f\"{num} is Odd\")"
   ]
  },
  {
   "cell_type": "markdown",
   "metadata": {},
   "source": [
    "# Vowel Tester"
   ]
  },
  {
   "cell_type": "code",
   "execution_count": 50,
   "metadata": {},
   "outputs": [
    {
     "name": "stdout",
     "output_type": "stream",
     "text": [
      "Enter the letter: A\n",
      "A is a Vowel\n"
     ]
    }
   ],
   "source": [
    "char = input(\"Enter the letter: \")\n",
    "if (char=='A' or char=='a' or char=='E' or char=='e' or char=='I' or char=='i' or char=='O' or char=='o' or char=='U' or char=='u'):\n",
    "    print(f\"{char} is a Vowel\")\n",
    "else:\n",
    "    print(f\"{char} is not a Vowel\")"
   ]
  },
  {
   "cell_type": "code",
   "execution_count": 51,
   "metadata": {},
   "outputs": [
    {
     "name": "stdout",
     "output_type": "stream",
     "text": [
      "Enter the letter: e\n",
      "e is a Vowel\n"
     ]
    }
   ],
   "source": [
    "char = input(\"Enter the letter: \")\n",
    "if (char=='A' or char=='a' or char=='E' or char=='e' or char=='I' or char=='i' or char=='O' or char=='o' or char=='U' or char=='u'):\n",
    "    print(f\"{char} is a Vowel\")\n",
    "else:\n",
    "    print(f\"{char} is not a Vowel\")"
   ]
  },
  {
   "cell_type": "code",
   "execution_count": 52,
   "metadata": {},
   "outputs": [
    {
     "name": "stdout",
     "output_type": "stream",
     "text": [
      "Enter the letter: N\n",
      "N is not a Vowel\n"
     ]
    }
   ],
   "source": [
    "char = input(\"Enter the letter: \")\n",
    "if (char=='A' or char=='a' or char=='E' or char=='e' or char=='I' or char=='i' or char=='O' or char=='o' or char=='U' or char=='u'):\n",
    "    print(f\"{char} is a Vowel\")\n",
    "else:\n",
    "    print(f\"{char} is not a Vowel\")"
   ]
  },
  {
   "cell_type": "markdown",
   "metadata": {},
   "source": [
    "# Triangle Area"
   ]
  },
  {
   "cell_type": "code",
   "execution_count": 53,
   "metadata": {},
   "outputs": [
    {
     "name": "stdout",
     "output_type": "stream",
     "text": [
      "Enter the magnitude of Triangle base :4\n",
      "Enter the magnitude of Triangle height :4\n",
      "Area of Triangle with Height 4 and Base 4 is 8.0\n"
     ]
    }
   ],
   "source": [
    "b = int(input(\"Enter the magnitude of Triangle base :\"))\n",
    "h = int(input(\"Enter the magnitude of Triangle height :\"))\n",
    "area = b * h / 2\n",
    "print(f\"Area of Triangle with Height {h} and Base {b} is {area}\")"
   ]
  },
  {
   "cell_type": "markdown",
   "metadata": {},
   "source": [
    "# Calculate Interest"
   ]
  },
  {
   "cell_type": "code",
   "execution_count": 62,
   "metadata": {},
   "outputs": [
    {
     "name": "stdout",
     "output_type": "stream",
     "text": [
      "Please enter principal amount: 10000\n",
      "Please enter rate of interest in %: 0.1\n",
      "Enter number of years for investment: 5\n",
      "After 5.0 years your principal amount 10000.0 over an interest of 0.1% will be 10050.0\n"
     ]
    }
   ],
   "source": [
    "amnt = float(input(\"Please enter principal amount: \"))\n",
    "rate = float(input(\"Please enter rate of interest in %: \"))\n",
    "years = float(input(\"Enter number of years for investment: \"))\n",
    "r = rate/100\n",
    "value = amnt*rate*years/100\n",
    "value = value + amnt\n",
    "print(f\"After {years} years your principal amount {amnt} over an interest of {rate}% will be {value}\")"
   ]
  },
  {
   "cell_type": "markdown",
   "metadata": {},
   "source": [
    "# Euclidean Distance"
   ]
  },
  {
   "cell_type": "code",
   "execution_count": 65,
   "metadata": {},
   "outputs": [
    {
     "name": "stdout",
     "output_type": "stream",
     "text": [
      "Enter Co-ordinate for x1: 2\n",
      "Enter Co-ordinate for x2: 4\n",
      "Enter Co-ordinate for y1: 4\n",
      "Enter Co-ordinate for y2: 4\n",
      "Distance between points (2,4) and (4,4) is 2.0\n"
     ]
    }
   ],
   "source": [
    "import math\n",
    "x1 = int(input(\"Enter Co-ordinate for x1: \"))\n",
    "x2 = int(input(\"Enter Co-ordinate for x2: \"))\n",
    "y1 = int(input(\"Enter Co-ordinate for y1: \"))\n",
    "y2 = int(input(\"Enter Co-ordinate for y2: \"))\n",
    "distance = math.sqrt(((x1 - x2)** 2)+((y1 - y2)** 2))\n",
    "print(f\"Distance between points ({x1},{x2}) and ({y1},{y2}) is {distance}\")"
   ]
  },
  {
   "cell_type": "markdown",
   "metadata": {},
   "source": [
    "# Feet to Centimeter Converter"
   ]
  },
  {
   "cell_type": "code",
   "execution_count": 66,
   "metadata": {},
   "outputs": [
    {
     "name": "stdout",
     "output_type": "stream",
     "text": [
      "Enter height in Feet: 5\n",
      "There are 152.4 cm in 5 ft\n"
     ]
    }
   ],
   "source": [
    "ft = int(input(\"Enter height in Feet: \"))\n",
    "cm = ft * 30.48\n",
    "print(f\"There are {cm} cm in {ft} ft\")"
   ]
  },
  {
   "cell_type": "markdown",
   "metadata": {},
   "source": [
    "# BMI Calculator"
   ]
  },
  {
   "cell_type": "code",
   "execution_count": 73,
   "metadata": {},
   "outputs": [
    {
     "name": "stdout",
     "output_type": "stream",
     "text": [
      "Enter Height in Cm: 180\n",
      "Enter Weight in Kg: 75\n",
      "Your BMI is 23.15\n"
     ]
    }
   ],
   "source": [
    "height = float(input(\"Enter Height in Cm: \"))\n",
    "weight = float(input(\"Enter Weight in Kg: \"))\n",
    "BMI = round(weight/((height/100)**2),2)\n",
    "print(f\"Your BMI is {BMI}\")"
   ]
  },
  {
   "cell_type": "markdown",
   "metadata": {},
   "source": [
    "# Sum of n Positive Integers"
   ]
  },
  {
   "cell_type": "code",
   "execution_count": 77,
   "metadata": {},
   "outputs": [
    {
     "name": "stdout",
     "output_type": "stream",
     "text": [
      "Enter value of n: 5\n",
      "Sum of n Positive Integers till 5 is 15.0\n"
     ]
    }
   ],
   "source": [
    "num = int(input(\"Enter value of n: \"))\n",
    "result = (num * (num + 1)) / 2\n",
    "print(f\"Sum of n Positive Integers till {num} is\",result)"
   ]
  },
  {
   "cell_type": "markdown",
   "metadata": {},
   "source": [
    "# Digits Sum of a Number"
   ]
  },
  {
   "cell_type": "code",
   "execution_count": 93,
   "metadata": {},
   "outputs": [
    {
     "name": "stdout",
     "output_type": "stream",
     "text": [
      "Enter a number: 15\n",
      "Sum is 6\n"
     ]
    }
   ],
   "source": [
    "num = int(input(\"Enter a number: \"))\n",
    "total = 0\n",
    "while(num > 0):\n",
    "    digit = num % 10\n",
    "    total = total + digit\n",
    "    num = num // 10\n",
    "print(f\"Sum is {total}\")"
   ]
  },
  {
   "cell_type": "code",
   "execution_count": 94,
   "metadata": {},
   "outputs": [
    {
     "name": "stdout",
     "output_type": "stream",
     "text": [
      "Enter a number: 1234\n",
      "Sum is 10\n"
     ]
    }
   ],
   "source": [
    "num = int(input(\"Enter a number: \"))\n",
    "total = 0\n",
    "while(num > 0):\n",
    "    digit = num % 10\n",
    "    total = total + digit\n",
    "    num = num // 10\n",
    "print(f\"Sum is {total}\")"
   ]
  },
  {
   "cell_type": "markdown",
   "metadata": {},
   "source": [
    "# Decimal to Binary Converter"
   ]
  },
  {
   "cell_type": "code",
   "execution_count": 154,
   "metadata": {},
   "outputs": [
    {
     "name": "stdout",
     "output_type": "stream",
     "text": [
      "Enter a decimal number: 5\n",
      "101"
     ]
    }
   ],
   "source": [
    "def DecimalToBinary(num):\n",
    "    if num > 1:\n",
    "        DecimalToBinary(num // 2)\n",
    "    print(num % 2, end='')\n",
    "dec = int(input(\"Enter a decimal number: \"))\n",
    "DecimalToBinary(dec)"
   ]
  },
  {
   "cell_type": "code",
   "execution_count": 155,
   "metadata": {},
   "outputs": [
    {
     "name": "stdout",
     "output_type": "stream",
     "text": [
      "Enter a decimal number: 32\n",
      "100000"
     ]
    }
   ],
   "source": [
    "def DecimalToBinary(num):\n",
    "    if num > 1:\n",
    "        DecimalToBinary(num // 2)\n",
    "    print(num % 2, end='')\n",
    "dec = int(input(\"Enter a decimal number: \"))\n",
    "DecimalToBinary(dec)"
   ]
  },
  {
   "cell_type": "markdown",
   "metadata": {},
   "source": [
    "# Binary to Decimal Converter"
   ]
  },
  {
   "cell_type": "code",
   "execution_count": 207,
   "metadata": {},
   "outputs": [
    {
     "name": "stdout",
     "output_type": "stream",
     "text": [
      "Enter a Binary number: 1101\n",
      "Decimal Representation of 1101 is 13\n"
     ]
    }
   ],
   "source": [
    "def binaryToDecimal(binary): \n",
    "    decimal, i= 0, 0\n",
    "    while(binary != 0): \n",
    "        rem = binary % 10\n",
    "        decimal = decimal + rem * pow(2, i) \n",
    "        binary = binary//10\n",
    "        i += 1\n",
    "    print(f\"Decimal Representation of {num} is \" +str(decimal))     \n",
    "      \n",
    "  \n",
    "if __name__ == '__main__': \n",
    "    num = int(input(\"Enter a Binary number: \"))\n",
    "    binaryToDecimal(num) "
   ]
  },
  {
   "cell_type": "code",
   "execution_count": 208,
   "metadata": {},
   "outputs": [
    {
     "name": "stdout",
     "output_type": "stream",
     "text": [
      "Enter a Binary number: 1001\n",
      "Decimal Representation of 1001 is 9\n"
     ]
    }
   ],
   "source": [
    "def binaryToDecimal(binary): \n",
    "    decimal, i= 0, 0\n",
    "    while(binary != 0): \n",
    "        rem = binary % 10\n",
    "        decimal = decimal + rem * pow(2, i) \n",
    "        binary = binary//10\n",
    "        i += 1\n",
    "    print(f\"Decimal Representation of {num} is \" +str(decimal))     \n",
    "      \n",
    "  \n",
    "if __name__ == '__main__': \n",
    "    num = int(input(\"Enter a Binary number: \"))\n",
    "    binaryToDecimal(num) "
   ]
  },
  {
   "cell_type": "markdown",
   "metadata": {},
   "source": [
    "# Vowel and Consonants Counter"
   ]
  },
  {
   "cell_type": "code",
   "execution_count": 213,
   "metadata": {},
   "outputs": [
    {
     "name": "stdout",
     "output_type": "stream",
     "text": [
      "Enter text: QuickBrownFoxJumpsovertheDog\n",
      "Vowels: 9\n",
      "Consonants: 19\n"
     ]
    }
   ],
   "source": [
    "text = str(input(\"Enter text: \"))\n",
    "vowels = 0\n",
    "consonants = 0\n",
    "\n",
    "for i in text:\n",
    "    if(i=='A' or i=='a' or i=='E' or i=='e' or i=='I' or i=='i' or i=='O' or i=='o' or i=='U' or i=='u'):\n",
    "        vowels = vowels + 1\n",
    "    else:\n",
    "        consonants = consonants + 1\n",
    "print(f\"Vowels: {vowels}\")\n",
    "print(f\"Consonants: {consonants}\")"
   ]
  },
  {
   "cell_type": "markdown",
   "metadata": {},
   "source": [
    "# Palindrome Tester"
   ]
  },
  {
   "cell_type": "code",
   "execution_count": 222,
   "metadata": {},
   "outputs": [
    {
     "name": "stdout",
     "output_type": "stream",
     "text": [
      "Enter text: AHA\n",
      "Text aha is Palindrome\n"
     ]
    }
   ],
   "source": [
    "text = str(input(\"Enter text: \"))\n",
    "text = text.casefold()\n",
    "\n",
    "rtext = reversed(text)\n",
    "if list(text) == list(rtext):\n",
    "    print(f\"Text {text} is Palindrome\")\n",
    "else:\n",
    "    print(f\"Text {text} is not a Palindrome\")"
   ]
  },
  {
   "cell_type": "code",
   "execution_count": 223,
   "metadata": {},
   "outputs": [
    {
     "name": "stdout",
     "output_type": "stream",
     "text": [
      "Enter text: Hello\n",
      "Text hello is not a Palindrome\n"
     ]
    }
   ],
   "source": [
    "text = str(input(\"Enter text: \"))\n",
    "text = text.casefold()\n",
    "\n",
    "rtext = reversed(text)\n",
    "if list(text) == list(rtext):\n",
    "    print(f\"Text {text} is Palindrome\")\n",
    "else:\n",
    "    print(f\"Text {text} is not a Palindrome\")"
   ]
  },
  {
   "cell_type": "markdown",
   "metadata": {},
   "source": [
    "# Count Alphabets, Numbers and Special Characters"
   ]
  },
  {
   "cell_type": "code",
   "execution_count": 1,
   "metadata": {},
   "outputs": [
    {
     "name": "stdout",
     "output_type": "stream",
     "text": [
      "Enter text: Python 3.2\n",
      "\n",
      "Alphabets :   6\n",
      "Numbers :   2\n",
      "Spaces : 1\n",
      "Special Characters :  1\n"
     ]
    }
   ],
   "source": [
    "text = str(input(\"Enter text: \"))\n",
    "n=a=sc=sp=0\n",
    "for i in text:\n",
    "    if i.isdigit():\n",
    "        n=n+1\n",
    "    elif i.isalpha():\n",
    "        a=a+1\n",
    "    elif i.isspace():\n",
    "        sp=sp+1\n",
    "    else:\n",
    "        sc=sc+1\n",
    "        \n",
    "print(\"\\nAlphabets :  \", a)\n",
    "print(\"Numbers :  \", n)\n",
    "print(\"Spaces :\", sp)\n",
    "print(\"Special Characters : \", sc)"
   ]
  },
  {
   "cell_type": "code",
   "execution_count": 12,
   "metadata": {},
   "outputs": [
    {
     "name": "stdout",
     "output_type": "stream",
     "text": [
      "\n",
      "* \n",
      "* * \n",
      "* * * \n",
      "* * * * \n",
      "* * * * * \n",
      "* * * * \n",
      "* * * \n",
      "* * \n",
      "* \n"
     ]
    }
   ],
   "source": [
    "n=5\n",
    "for i in range(n):\n",
    "    for j in range(i):\n",
    "        print('* ', end=\"\")\n",
    "    print('')\n",
    "        \n",
    "for i in range(n,0,-1):\n",
    "    for j in range(i):\n",
    "        print('* ', end=\"\")\n",
    "    print('')"
   ]
  },
  {
   "cell_type": "code",
   "execution_count": 15,
   "metadata": {},
   "outputs": [
    {
     "name": "stdout",
     "output_type": "stream",
     "text": [
      "Enter a number: 5\n",
      "1\n",
      "12\n",
      "123\n",
      "1234\n",
      "12345\n",
      "1234\n",
      "123\n",
      "12\n",
      "1\n"
     ]
    }
   ],
   "source": [
    "n = int(input(\"Enter a number: \"))\n",
    "for i in range(1,n):\n",
    "    for j in range(1,i+1):\n",
    "        print(j,end=\"\")\n",
    "    print('')\n",
    "    \n",
    "for i in range(n,0,-1):\n",
    "    for j in range(1,i+1):\n",
    "        print(j,end=\"\")\n",
    "    print('')"
   ]
  },
  {
   "cell_type": "code",
   "execution_count": 17,
   "metadata": {},
   "outputs": [
    {
     "name": "stdout",
     "output_type": "stream",
     "text": [
      "Enter the number of row: 9\n",
      "1\n",
      "22\n",
      "333\n",
      "4444\n",
      "55555\n",
      "666666\n",
      "7777777\n",
      "88888888\n",
      "999999999\n"
     ]
    }
   ],
   "source": [
    "n = int(input(\"Enter the number of row: \"))\n",
    "count=1\n",
    "for row in range(1,n+1):\n",
    "    for col in range(1,row+count):\n",
    "        print(row,end=\"\")\n",
    "    print('')"
   ]
  },
  {
   "cell_type": "code",
   "execution_count": null,
   "metadata": {},
   "outputs": [],
   "source": []
  }
 ],
 "metadata": {
  "kernelspec": {
   "display_name": "Python 3",
   "language": "python",
   "name": "python3"
  },
  "language_info": {
   "codemirror_mode": {
    "name": "ipython",
    "version": 3
   },
   "file_extension": ".py",
   "mimetype": "text/x-python",
   "name": "python",
   "nbconvert_exporter": "python",
   "pygments_lexer": "ipython3",
   "version": "3.7.3"
  }
 },
 "nbformat": 4,
 "nbformat_minor": 2
}
